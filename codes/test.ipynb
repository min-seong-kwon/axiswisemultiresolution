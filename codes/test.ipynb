{
 "cells": [
  {
   "cell_type": "code",
   "execution_count": 1,
   "metadata": {},
   "outputs": [
    {
     "name": "stdout",
     "output_type": "stream",
     "text": [
      "Jupyter environment detected. Enabling Open3D WebVisualizer.\n",
      "[Open3D INFO] WebRTC GUI backend enabled.\n",
      "[Open3D INFO] WebRTCWindowSystem: HTTP handshake server disabled.\n"
     ]
    },
    {
     "ename": "FileNotFoundError",
     "evalue": "[Errno 2] No such file or directory: '../vunits/soldier/voxsize_1.5/volume_origin_1.5.npy'",
     "output_type": "error",
     "traceback": [
      "\u001b[1;31m---------------------------------------------------------------------------\u001b[0m",
      "\u001b[1;31mFileNotFoundError\u001b[0m                         Traceback (most recent call last)",
      "\u001b[1;32md:\\Minseongkwon\\StandfordDataset_AWMR\\codes\\test.ipynb Cell 1\u001b[0m line \u001b[0;36m2\n\u001b[0;32m     <a href='vscode-notebook-cell:/d%3A/Minseongkwon/StandfordDataset_AWMR/codes/test.ipynb#W0sZmlsZQ%3D%3D?line=22'>23</a>\u001b[0m scale_factor \u001b[39m=\u001b[39m \u001b[39m0.002\u001b[39m\u001b[39m/\u001b[39mfinest_voxel_size\n\u001b[0;32m     <a href='vscode-notebook-cell:/d%3A/Minseongkwon/StandfordDataset_AWMR/codes/test.ipynb#W0sZmlsZQ%3D%3D?line=23'>24</a>\u001b[0m final_res \u001b[39m=\u001b[39m np\u001b[39m.\u001b[39marray([\u001b[39m16\u001b[39m,\u001b[39m16\u001b[39m,\u001b[39m16\u001b[39m])\n\u001b[1;32m---> <a href='vscode-notebook-cell:/d%3A/Minseongkwon/StandfordDataset_AWMR/codes/test.ipynb#W0sZmlsZQ%3D%3D?line=25'>26</a>\u001b[0m volume_origin \u001b[39m=\u001b[39m np\u001b[39m.\u001b[39;49mload(\u001b[39mf\u001b[39;49m\u001b[39m'\u001b[39;49m\u001b[39m../vunits/\u001b[39;49m\u001b[39m{\u001b[39;49;00mdataset_name\u001b[39m}\u001b[39;49;00m\u001b[39m/voxsize_\u001b[39;49m\u001b[39m{\u001b[39;49;00mfinest_voxel_size\u001b[39m:\u001b[39;49;00m\u001b[39m.1f\u001b[39;49m\u001b[39m}\u001b[39;49;00m\u001b[39m/volume_origin_\u001b[39;49m\u001b[39m{\u001b[39;49;00mfinest_voxel_size\u001b[39m:\u001b[39;49;00m\u001b[39m.1f\u001b[39;49m\u001b[39m}\u001b[39;49;00m\u001b[39m.npy\u001b[39;49m\u001b[39m'\u001b[39;49m)\n",
      "File \u001b[1;32mc:\\Users\\alienware\\anaconda3\\envs\\py3d\\lib\\site-packages\\numpy\\lib\\npyio.py:427\u001b[0m, in \u001b[0;36mload\u001b[1;34m(file, mmap_mode, allow_pickle, fix_imports, encoding, max_header_size)\u001b[0m\n\u001b[0;32m    425\u001b[0m     own_fid \u001b[39m=\u001b[39m \u001b[39mFalse\u001b[39;00m\n\u001b[0;32m    426\u001b[0m \u001b[39melse\u001b[39;00m:\n\u001b[1;32m--> 427\u001b[0m     fid \u001b[39m=\u001b[39m stack\u001b[39m.\u001b[39menter_context(\u001b[39mopen\u001b[39;49m(os_fspath(file), \u001b[39m\"\u001b[39;49m\u001b[39mrb\u001b[39;49m\u001b[39m\"\u001b[39;49m))\n\u001b[0;32m    428\u001b[0m     own_fid \u001b[39m=\u001b[39m \u001b[39mTrue\u001b[39;00m\n\u001b[0;32m    430\u001b[0m \u001b[39m# Code to distinguish from NumPy binary files and pickles.\u001b[39;00m\n",
      "\u001b[1;31mFileNotFoundError\u001b[0m: [Errno 2] No such file or directory: '../vunits/soldier/voxsize_1.5/volume_origin_1.5.npy'"
     ]
    }
   ],
   "source": [
    "\n",
    "import os\n",
    "import numpy as np\n",
    "from tqdm import tqdm\n",
    "\n",
    "from source.ConfigSettings import base_volume_unit_dim, base_voxel_size\n",
    "from source.VolumeUnit import VolumeUnit\n",
    "from source.AWMR_utils import pad_awmr_from_original, make_mesh, mesh_whole_block_singularize, split_into_resolution,pad_awmr_from_original, mesh_whole_block\n",
    "from source.AWMRblock8x8 import AWMRblock8x8 as AWMRblock # TODO\n",
    "\n",
    "from utils.TSDFDataset import TSDFDataset\n",
    "from utils.evalUtils import customChamfer, customHausdorff, key_is_in\n",
    "\n",
    "import open3d as o3d\n",
    "\n",
    "import igl\n",
    "import pickle\n",
    "import pandas as pd\n",
    "\n",
    "evaluate = True\n",
    "\n",
    "dataset_name = 'soldier'\n",
    "finest_voxel_size = 1.5\n",
    "scale_factor = 0.002/finest_voxel_size\n",
    "final_res = np.array([16,16,16])\n",
    "\n",
    "volume_origin = np.load(f'../vunits/{dataset_name}/voxsize_{finest_voxel_size:.1f}/volume_origin_{finest_voxel_size:.1f}.npy')\n"
   ]
  },
  {
   "cell_type": "code",
   "execution_count": 1,
   "metadata": {},
   "outputs": [
    {
     "ename": "NameError",
     "evalue": "name 'np' is not defined",
     "output_type": "error",
     "traceback": [
      "\u001b[1;31m---------------------------------------------------------------------------\u001b[0m",
      "\u001b[1;31mNameError\u001b[0m                                 Traceback (most recent call last)",
      "\u001b[1;32md:\\Minseongkwon\\StandfordDataset_AWMR\\codes\\test.ipynb Cell 2\u001b[0m line \u001b[0;36m1\n\u001b[1;32m----> <a href='vscode-notebook-cell:/d%3A/Minseongkwon/StandfordDataset_AWMR/codes/test.ipynb#W1sZmlsZQ%3D%3D?line=0'>1</a>\u001b[0m p1 \u001b[39m=\u001b[39m np\u001b[39m.\u001b[39marray([\u001b[39m166.485504\u001b[39m ,\u001b[39m144.843796\u001b[39m ,\u001b[39m92.823845\u001b[39m])\n\u001b[0;32m      <a href='vscode-notebook-cell:/d%3A/Minseongkwon/StandfordDataset_AWMR/codes/test.ipynb#W1sZmlsZQ%3D%3D?line=1'>2</a>\u001b[0m p2 \u001b[39m=\u001b[39m np\u001b[39m.\u001b[39marray([\u001b[39m185.676086\u001b[39m ,\u001b[39m187.746445\u001b[39m ,\u001b[39m70.507355\u001b[39m])\n\u001b[0;32m      <a href='vscode-notebook-cell:/d%3A/Minseongkwon/StandfordDataset_AWMR/codes/test.ipynb#W1sZmlsZQ%3D%3D?line=2'>3</a>\u001b[0m vunit_start \u001b[39m=\u001b[39m np\u001b[39m.\u001b[39mfloor((p1 \u001b[39m-\u001b[39m np\u001b[39m.\u001b[39msqueeze(volume_origin))\u001b[39m/\u001b[39m(finest_voxel_size\u001b[39m*\u001b[39mbase_volume_unit_dim))\n",
      "\u001b[1;31mNameError\u001b[0m: name 'np' is not defined"
     ]
    }
   ],
   "source": [
    "p1 = np.array([166.485504 ,144.843796 ,92.823845])\n",
    "p2 = np.array([185.676086 ,187.746445 ,70.507355])\n",
    "vunit_start = np.floor((p1 - np.squeeze(volume_origin))/(finest_voxel_size*base_volume_unit_dim))\n",
    "vunit_end = np.floor((p2 - np.squeeze(volume_origin))/(finest_voxel_size*base_volume_unit_dim))\n",
    "\n",
    "print(vunit_start, vunit_end)"
   ]
  },
  {
   "cell_type": "code",
   "execution_count": 47,
   "metadata": {},
   "outputs": [
    {
     "name": "stdout",
     "output_type": "stream",
     "text": [
      "[ 0  1  2  3  4  5  6  7  8  9 10 11]\n",
      "[1.5 5.5 9.5]\n",
      "[1.5 5.5 9.5]\n"
     ]
    }
   ],
   "source": [
    "import numpy as np\n",
    "\n",
    "# (1, 4) 입력 벡터\n",
    "input_vector = np.arange(12)\n",
    "print(input_vector)\n",
    "# 사용자 정의 가중치를 적용한 가중 평균 계산\n",
    "# result = custom_weighted_average(input_vector)\n",
    "\n",
    "nn = np.average([input_vector[0::4],input_vector[1::4],input_vector[2::4],input_vector[3::4]],axis=0, weights=[.1,.4,.4,.1])\n",
    "nn2 = np.average([input_vector[0::4],input_vector[1::4],input_vector[2::4],input_vector[3::4]],axis=0, weights=[.25,.25,.25,.25])\n",
    "print(nn)\n",
    "print(nn2)"
   ]
  },
  {
   "cell_type": "code",
   "execution_count": 10,
   "metadata": {},
   "outputs": [
    {
     "name": "stdout",
     "output_type": "stream",
     "text": [
      "[dataset: armadillo] [split: awmr] [voxsize: 0.5]\n",
      "                      0\n",
      "thres            0.0001\n",
      "original dist 0.0038768\n",
      "finest dist   0.0022825\n"
     ]
    }
   ],
   "source": [
    "import numpy as np\n",
    "import open3d as o3d\n",
    "import torch\n",
    "from pytorch3d.structures import Meshes, Pointclouds\n",
    "import trimesh\n",
    "import os\n",
    "import sys\n",
    "import pandas\n",
    "from pandas import Series, DataFrame\n",
    "pandas.set_option('display.float_format', '{:.7f}'.format)\n",
    "\n",
    "####################################################################################################\n",
    "dataset_name = 'armadillo'\n",
    "finest_voxel_size = 0.5\n",
    "split = 'awmr'\n",
    "####################################################################################################\n",
    "target_obj_mesh_path = f'../OriginalDataset/{dataset_name}.ply'\n",
    "target_obj_mesh = trimesh.load(target_obj_mesh_path)\n",
    "target_obj_verts = np.array(target_obj_mesh.vertices)\n",
    "target_obj_faces = np.array(target_obj_mesh.faces)\n",
    "\n",
    "finest_mesh_path = f'../results/[TSDF]{dataset_name}/SingleRes/voxsize_{finest_voxel_size:.3f}/{dataset_name}_singleres=[32 32 32].ply'\n",
    "finest_mesh = trimesh.load(finest_mesh_path)\n",
    "finest_mesh_verts = np.array(finest_mesh.vertices)\n",
    "finest_mesh_faces = np.array(finest_mesh.faces)\n",
    "####################################################################################################\n",
    "from source.ChamferDistance import symmetric_face_to_point_distance, custom_ChamferDistance\n",
    "# thres_list=[0.0005, 0.0004, 0.0003, 0.00025, 0.00022, 0.0002, 0.00018, 0.00015, 0.00012, 0.0001,\n",
    "#             9e-05, 8e-05, 7e-05, 5e-05, 4e-05, 3e-05, 2e-05, 1e-05]\n",
    "thres_list = [0.0001]\n",
    "thres_list = [str(x) for x in thres_list] \n",
    "####################################################################################################\n",
    "dist_original = []\n",
    "dist_finest = []\n",
    "th_list = []\n",
    "print(f\"[dataset: {dataset_name}] [split: {split}] [voxsize: {finest_voxel_size}]\")\n",
    "for thres in thres_list:\n",
    "    awmr_mesh_path = f'../results/[TSDF]{dataset_name}/AWMR/voxsize_{finest_voxel_size:.3f}/{dataset_name}_{split}_thres={thres}_pool.ply'\n",
    "    awmr_mesh = trimesh.load(awmr_mesh_path)\n",
    "    awmr_verts = np.array(awmr_mesh.vertices)\n",
    "    awmr_faces = np.array(awmr_mesh.faces)\n",
    "    \n",
    "    target_obj_verts = target_obj_verts.astype(np.float32)\n",
    "    target_obj_faces = target_obj_faces.astype(np.int32)\n",
    "    finest_mesh_verts = finest_mesh_verts.astype(np.float32)\n",
    "    finest_mesh_faces = finest_mesh_faces.astype(np.int32)\n",
    "    awmr_verts = awmr_verts.astype(np.float32)\n",
    "    awmr_faces = awmr_faces.astype(np.int32)\n",
    "    \n",
    "    dist_original_A2B, dist_original_B2A = symmetric_face_to_point_distance(target_obj_verts, target_obj_faces, awmr_verts, awmr_faces)\n",
    "    dist_finest_A2B, dist_finest_B2A = symmetric_face_to_point_distance(finest_mesh_verts, finest_mesh_faces, awmr_verts, awmr_faces)\n",
    "    dist_original.append((dist_original_A2B+dist_original_B2A).item())\n",
    "    dist_finest.append((dist_finest_A2B+dist_finest_B2A).item())\n",
    "    th_list.append(thres)\n",
    "\n",
    "raw_data = {'thres': th_list,\n",
    "        'original dist': dist_original,\n",
    "        'finest dist': dist_finest}\n",
    "data = DataFrame(raw_data).transpose()\n",
    "print(data)\n"
   ]
  },
  {
   "cell_type": "code",
   "execution_count": 14,
   "metadata": {},
   "outputs": [
    {
     "name": "stdout",
     "output_type": "stream",
     "text": [
      "[dataset: armadillo] [split: awmr] [voxsize: 0.5]\n",
      "                      0\n",
      "thres            0.0001\n",
      "original dist 0.2295830\n",
      "finest dist   0.1351110\n"
     ]
    }
   ],
   "source": [
    "import numpy as np\n",
    "import open3d as o3d\n",
    "import torch\n",
    "from pytorch3d.structures import Meshes, Pointclouds\n",
    "import trimesh\n",
    "import os\n",
    "import sys\n",
    "import pandas\n",
    "from pandas import Series, DataFrame\n",
    "pandas.set_option('display.float_format', '{:.7f}'.format)\n",
    "\n",
    "####################################################################################################\n",
    "dataset_name = 'armadillo'\n",
    "finest_voxel_size = 0.5\n",
    "split = 'awmr'\n",
    "####################################################################################################\n",
    "target_obj_mesh_path = f'../OriginalDataset/{dataset_name}.ply'\n",
    "target_obj_mesh = trimesh.load(target_obj_mesh_path)\n",
    "\n",
    "finest_mesh_path = f'../results/[TSDF]{dataset_name}/SingleRes/voxsize_{finest_voxel_size:.3f}/{dataset_name}_singleres=[32 32 32].ply'\n",
    "finest_mesh = trimesh.load(finest_mesh_path)\n",
    "\n",
    "####################################################################################################\n",
    "mesh_bbox = target_obj_mesh.bounding_box.extents\n",
    "scale_factors = 1000.0 / mesh_bbox\n",
    "target_obj_mesh.apply_scale(scale_factors)\n",
    "finest_mesh.apply_scale(scale_factors)\n",
    "\n",
    "target_obj_verts = np.array(target_obj_mesh.vertices)\n",
    "target_obj_faces = np.array(target_obj_mesh.faces)\n",
    "finest_mesh_verts = np.array(finest_mesh.vertices)\n",
    "finest_mesh_faces = np.array(finest_mesh.faces)\n",
    "####################################################################################################\n",
    "from source.ChamferDistance import symmetric_face_to_point_distance, custom_ChamferDistance\n",
    "# thres_list=[0.0005, 0.0004, 0.0003, 0.00025, 0.00022, 0.0002, 0.00018, 0.00015, 0.00012, 0.0001,\n",
    "#             9e-05, 8e-05, 7e-05, 5e-05, 4e-05, 3e-05, 2e-05, 1e-05]\n",
    "thres_list = [0.0001]\n",
    "thres_list = [str(x) for x in thres_list] \n",
    "####################################################################################################\n",
    "dist_original = []\n",
    "dist_finest = []\n",
    "th_list = []\n",
    "print(f\"[dataset: {dataset_name}] [split: {split}] [voxsize: {finest_voxel_size}]\")\n",
    "for thres in thres_list:\n",
    "    awmr_mesh_path = f'../results/[TSDF]{dataset_name}/AWMR/voxsize_{finest_voxel_size:.3f}/{dataset_name}_{split}_thres={thres}_pool.ply'\n",
    "    awmr_mesh = trimesh.load(awmr_mesh_path)\n",
    "    awmr_mesh.apply_scale(scale_factors)\n",
    "    \n",
    "    awmr_verts = np.array(awmr_mesh.vertices)\n",
    "    awmr_faces = np.array(awmr_mesh.faces)\n",
    "    \n",
    "    target_obj_verts = target_obj_verts.astype(np.float32)\n",
    "    target_obj_faces = target_obj_faces.astype(np.int32)\n",
    "    finest_mesh_verts = finest_mesh_verts.astype(np.float32)\n",
    "    finest_mesh_faces = finest_mesh_faces.astype(np.int32)\n",
    "    awmr_verts = awmr_verts.astype(np.float32)\n",
    "    awmr_faces = awmr_faces.astype(np.int32)\n",
    "    \n",
    "    dist_original_A2B, dist_original_B2A = symmetric_face_to_point_distance(target_obj_verts, target_obj_faces, awmr_verts, awmr_faces)\n",
    "    dist_finest_A2B, dist_finest_B2A = symmetric_face_to_point_distance(finest_mesh_verts, finest_mesh_faces, awmr_verts, awmr_faces)\n",
    "    dist_original.append((dist_original_A2B+dist_original_B2A).item())\n",
    "    dist_finest.append((dist_finest_A2B+dist_finest_B2A).item())\n",
    "    th_list.append(thres)\n",
    "\n",
    "raw_data = {'thres': th_list,\n",
    "        'original dist': dist_original,\n",
    "        'finest dist': dist_finest}\n",
    "data = DataFrame(raw_data).transpose()\n",
    "print(data)\n"
   ]
  },
  {
   "cell_type": "code",
   "execution_count": 21,
   "metadata": {},
   "outputs": [
    {
     "name": "stderr",
     "output_type": "stream",
     "text": [
      "100%|██████████| 18/18 [00:00<00:00, 18048.64it/s]"
     ]
    },
    {
     "name": "stdout",
     "output_type": "stream",
     "text": [
      "                     0         1         2         3         4         5   \\\n",
      "thres         0.5000000 0.5000000 0.5000000 0.5000000 0.5000000 0.5000000   \n",
      "original dist 2.0000000 2.0000000 2.0000000 2.0000000 2.0000000 2.0000000   \n",
      "finest dist   1.0000000 1.0000000 1.0000000 1.0000000 1.0000000 1.0000000   \n",
      "\n",
      "                     6         7         8         9         10        11  \\\n",
      "thres         0.5000000 0.5000000 0.5000000 0.5000000 0.5000000 0.5000000   \n",
      "original dist 2.0000000 2.0000000 2.0000000 2.0000000 2.0000000 2.0000000   \n",
      "finest dist   1.0000000 1.0000000 1.0000000 1.0000000 1.0000000 1.0000000   \n",
      "\n",
      "                     12        13        14        15        16        17  \n",
      "thres         0.5000000 0.5000000 0.5000000 0.5000000 0.5000000 0.5000000  \n",
      "original dist 2.0000000 2.0000000 2.0000000 2.0000000 2.0000000 2.0000000  \n",
      "finest dist   1.0000000 1.0000000 1.0000000 1.0000000 1.0000000 1.0000000  \n"
     ]
    },
    {
     "name": "stderr",
     "output_type": "stream",
     "text": [
      "\n"
     ]
    }
   ],
   "source": [
    "import pandas\n",
    "from pandas import Series, DataFrame\n",
    "from tqdm import tqdm\n",
    "pandas.set_option('display.float_format', '{:.7f}'.format)\n",
    "pandas.set_option('display.max_rows', None)\n",
    "dataset_name = 'dragon'\n",
    "finest_voxel_size = 0.001\n",
    "split = 'octree'\n",
    "\n",
    "thres_list=[0.0005, 0.0004, 0.0003, 0.00025, 0.00022, 0.0002, 0.00018, 0.00015, 0.00012, 0.0001,\n",
    "            9e-05, 8e-05, 7e-05, 5e-05, 4e-05, 3e-05, 2e-05, 1e-05]\n",
    "thres_list = [str(x) for x in thres_list] \n",
    "####################################################################################################\n",
    "dist_original = []\n",
    "dist_finest = []\n",
    "th_list = []\n",
    "\n",
    "for thres in tqdm(thres_list):\n",
    "    dist_original.append(2)\n",
    "    dist_finest.append(1)\n",
    "    th_list.append(0.5)\n",
    "\n",
    "raw_data = {'thres': th_list,\n",
    "        'original dist': dist_original,\n",
    "        'finest dist': dist_finest}\n",
    "data = DataFrame(raw_data).transpose()\n",
    "print(data)\n",
    "# data.to_excel(f'../results/[TSDF]{dataset_name}/{split}/voxsize_{finest_voxel_size:.3f}/RD_{dataset_name}_{split}.xlsx', index=False)  # 파일 이름을 원하는 대로 수정할 수 있습니다."
   ]
  },
  {
   "cell_type": "code",
   "execution_count": 10,
   "metadata": {},
   "outputs": [
    {
     "name": "stderr",
     "output_type": "stream",
     "text": [
      "100%|██████████| 18/18 [00:00<00:00, 18031.40it/s]"
     ]
    },
    {
     "name": "stdout",
     "output_type": "stream",
     "text": [
      "../results/[TSDF]armadillo/awmr/voxsize_0.400/armadillo_awmr_thres=0.0005.ply\n",
      "../results/[TSDF]armadillo/awmr/voxsize_0.400/armadillo_awmr_thres=0.0004.ply\n",
      "../results/[TSDF]armadillo/awmr/voxsize_0.400/armadillo_awmr_thres=0.0003.ply\n",
      "../results/[TSDF]armadillo/awmr/voxsize_0.400/armadillo_awmr_thres=0.00025.ply\n",
      "../results/[TSDF]armadillo/awmr/voxsize_0.400/armadillo_awmr_thres=0.00022.ply\n",
      "../results/[TSDF]armadillo/awmr/voxsize_0.400/armadillo_awmr_thres=0.0002.ply\n",
      "../results/[TSDF]armadillo/awmr/voxsize_0.400/armadillo_awmr_thres=0.00018.ply\n",
      "../results/[TSDF]armadillo/awmr/voxsize_0.400/armadillo_awmr_thres=0.00015.ply\n",
      "../results/[TSDF]armadillo/awmr/voxsize_0.400/armadillo_awmr_thres=0.00012.ply\n",
      "../results/[TSDF]armadillo/awmr/voxsize_0.400/armadillo_awmr_thres=0.0001.ply\n",
      "../results/[TSDF]armadillo/awmr/voxsize_0.400/armadillo_awmr_thres=9e-05.ply\n",
      "../results/[TSDF]armadillo/awmr/voxsize_0.400/armadillo_awmr_thres=8e-05.ply\n",
      "../results/[TSDF]armadillo/awmr/voxsize_0.400/armadillo_awmr_thres=7e-05.ply\n",
      "../results/[TSDF]armadillo/awmr/voxsize_0.400/armadillo_awmr_thres=5e-05.ply\n",
      "../results/[TSDF]armadillo/awmr/voxsize_0.400/armadillo_awmr_thres=4e-05.ply\n",
      "../results/[TSDF]armadillo/awmr/voxsize_0.400/armadillo_awmr_thres=3e-05.ply\n",
      "../results/[TSDF]armadillo/awmr/voxsize_0.400/armadillo_awmr_thres=2e-05.ply\n",
      "../results/[TSDF]armadillo/awmr/voxsize_0.400/armadillo_awmr_thres=1e-05.ply\n"
     ]
    },
    {
     "name": "stderr",
     "output_type": "stream",
     "text": [
      "\n"
     ]
    },
    {
     "ename": "NameError",
     "evalue": "name 'awmr_mesh_path' is not defined",
     "output_type": "error",
     "traceback": [
      "\u001b[1;31m---------------------------------------------------------------------------\u001b[0m",
      "\u001b[1;31mNameError\u001b[0m                                 Traceback (most recent call last)",
      "\u001b[1;32md:\\Minseongkwon\\axis-wise-multi-resolution\\codes\\test.ipynb Cell 7\u001b[0m line \u001b[0;36m1\n\u001b[0;32m     <a href='vscode-notebook-cell:/d%3A/Minseongkwon/axis-wise-multi-resolution/codes/test.ipynb#X10sZmlsZQ%3D%3D?line=10'>11</a>\u001b[0m     \u001b[39mprint\u001b[39m(awmr_mesh_path)\n\u001b[0;32m     <a href='vscode-notebook-cell:/d%3A/Minseongkwon/axis-wise-multi-resolution/codes/test.ipynb#X10sZmlsZQ%3D%3D?line=11'>12</a>\u001b[0m     \u001b[39mdel\u001b[39;00m awmr_mesh_path\n\u001b[1;32m---> <a href='vscode-notebook-cell:/d%3A/Minseongkwon/axis-wise-multi-resolution/codes/test.ipynb#X10sZmlsZQ%3D%3D?line=13'>14</a>\u001b[0m awmr_mesh_path\n",
      "\u001b[1;31mNameError\u001b[0m: name 'awmr_mesh_path' is not defined"
     ]
    }
   ],
   "source": [
    "\n",
    "from tqdm import tqdm\n",
    "import os\n",
    "thres_list=[0.0005, 0.0004, 0.0003, 0.00025, 0.00022, 0.0002, 0.00018, 0.00015, 0.00012, 0.0001,\n",
    "            9e-05, 8e-05, 7e-05, 5e-05, 4e-05, 3e-05, 2e-05, 1e-05]\n",
    "thres_list = [str(x) for x in thres_list] \n",
    "for thres in tqdm(thres_list):\n",
    "    awmr_mesh_path = f'../results/[TSDF]{dataset_name}/awmr/voxsize_{finest_voxel_size:.3f}/{dataset_name}_awmr_thres={thres}.ply'\n",
    "    if not os.path.exists(os.path.dirname(awmr_mesh_path)):\n",
    "        os.makedirs(awmr_mesh_path, exist_ok=True)\n",
    "    \n",
    "    print(awmr_mesh_path)\n"
   ]
  },
  {
   "cell_type": "code",
   "execution_count": 3,
   "metadata": {},
   "outputs": [
    {
     "data": {
      "text/plain": [
       "0.4"
      ]
     },
     "execution_count": 3,
     "metadata": {},
     "output_type": "execute_result"
    }
   ],
   "source": []
  }
 ],
 "metadata": {
  "kernelspec": {
   "display_name": "py3d",
   "language": "python",
   "name": "python3"
  },
  "language_info": {
   "codemirror_mode": {
    "name": "ipython",
    "version": 3
   },
   "file_extension": ".py",
   "mimetype": "text/x-python",
   "name": "python",
   "nbconvert_exporter": "python",
   "pygments_lexer": "ipython3",
   "version": "3.9.18"
  },
  "orig_nbformat": 4
 },
 "nbformat": 4,
 "nbformat_minor": 2
}
